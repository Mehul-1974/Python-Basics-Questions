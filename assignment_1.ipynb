{
  "nbformat": 4,
  "nbformat_minor": 0,
  "metadata": {
    "colab": {
      "provenance": []
    },
    "kernelspec": {
      "name": "python3",
      "display_name": "Python 3"
    },
    "language_info": {
      "name": "python"
    }
  },
  "cells": [
    {
      "cell_type": "markdown",
      "source": [
        "#**THEORY QUESTION**"
      ],
      "metadata": {
        "id": "SHpul6JlPYAD"
      }
    },
    {
      "cell_type": "markdown",
      "source": [
        "# What is Python, and why is it popular\n",
        "* Python is a programming language that is easy to understand and write, making it a popular choice among developers and programmers.\n",
        "* It is compatible with various programming paradigms, such as procedural, object-oriented, and functional programming.\n",
        "* Python has a large and active community of developers, an extensive standard library, and third-party packages for various domains.\n",
        "\n",
        "\n",
        "\n",
        "\n",
        "\n",
        "\n",
        "\n",
        "\n"
      ],
      "metadata": {
        "id": "5CH-TLIrPsEb"
      }
    },
    {
      "cell_type": "markdown",
      "source": [
        "# What is an interpreter in Python\n",
        "* In Python, an interpreter is a program that reads and executes code line by line. Unlike compiled languages where the entire code is converted into machine code before execution, Python uses an interpreter to translate and run the code one statement at a time. This makes it easier to identify errors quickly and allows for interactive programming.\n",
        "* example:-When we type print(\"Hello\") in the Python shell, the interpreter immediately executes it and displays the output.\n",
        "\n"
      ],
      "metadata": {
        "id": "4qshqGUHPvKL"
      }
    },
    {
      "cell_type": "code",
      "source": [
        "print(\"hello i am mehul\")"
      ],
      "metadata": {
        "colab": {
          "base_uri": "https://localhost:8080/"
        },
        "id": "iCRK3mh1R5O0",
        "outputId": "87d65117-126c-4397-ddbf-959b6277a0e1"
      },
      "execution_count": 1,
      "outputs": [
        {
          "output_type": "stream",
          "name": "stdout",
          "text": [
            "hello i am mehul\n"
          ]
        }
      ]
    },
    {
      "cell_type": "markdown",
      "source": [
        "#What are pre-defined keywords in Python?\n",
        "Definition:\n",
        "Pre-defined keywords in Python are reserved words that have special meaning and are part of the syntax. You cannot use them as variable names.\n",
        "\n",
        "Examples:\n",
        "if, else, for, while, class, def, return, True, False, None, try, except"
      ],
      "metadata": {
        "id": "2V6RzjQaPvGb"
      }
    },
    {
      "cell_type": "code",
      "source": [
        "vip=True\n",
        "if vip:\n",
        "  print(\"u r vip\")"
      ],
      "metadata": {
        "colab": {
          "base_uri": "https://localhost:8080/"
        },
        "id": "Jv-zGigFUTQ1",
        "outputId": "012154b7-ab00-4662-ac12-1632d137faf6"
      },
      "execution_count": 2,
      "outputs": [
        {
          "output_type": "stream",
          "name": "stdout",
          "text": [
            "u r vip\n"
          ]
        }
      ]
    },
    {
      "cell_type": "markdown",
      "source": [
        "# Can keywords be used as variable names?\n",
        "Definition:\n",
        "No, keywords cannot be used as variable names because they are reserved by the language for specific purposes.\n",
        "* for example def cannot be used as variable name as it is keywords"
      ],
      "metadata": {
        "id": "UyiLOoO0PvC7"
      }
    },
    {
      "cell_type": "code",
      "source": [
        "def = \"hi\""
      ],
      "metadata": {
        "colab": {
          "base_uri": "https://localhost:8080/",
          "height": 110
        },
        "id": "JmKetATgWyNm",
        "outputId": "53a97894-8a39-41d0-8599-f57768818d09"
      },
      "execution_count": 3,
      "outputs": [
        {
          "output_type": "error",
          "ename": "SyntaxError",
          "evalue": "invalid syntax (<ipython-input-3-52fdd50399ba>, line 1)",
          "traceback": [
            "\u001b[0;36m  File \u001b[0;32m\"<ipython-input-3-52fdd50399ba>\"\u001b[0;36m, line \u001b[0;32m1\u001b[0m\n\u001b[0;31m    def = \"hi\"\u001b[0m\n\u001b[0m        ^\u001b[0m\n\u001b[0;31mSyntaxError\u001b[0m\u001b[0;31m:\u001b[0m invalid syntax\n"
          ]
        }
      ]
    },
    {
      "cell_type": "markdown",
      "source": [
        "#What is mutability in Python?\n",
        "Definition:\n",
        "Mutability refers to the ability of an object to be changed after creation. If an object is mutable, you can change its contents.\n",
        "\n",
        "* Mutable example (List):\n",
        "my_list = [1, 2, 3]\n",
        "my_list[0] = 10\n",
        "print(my_list)  \n",
        "* Immutable example (Tuple):\n",
        "my_tuple = (1, 2, 3)\n",
        " my_tuple[0] = 10"
      ],
      "metadata": {
        "id": "vBw3SIRIPu_y"
      }
    },
    {
      "cell_type": "markdown",
      "source": [
        "#Why are lists mutable but tuples are immutable?\n",
        "Answer:\n",
        "Lists are designed to allow changes like adding, removing, or modifying elements. Tuples are meant to be fixed sequences, so they are made immutable for safety and performance.\n",
        "\n",
        "Example:\n",
        "*  Mutable list\n",
        "a = [1, 2, 3]\n",
        "a.append(4)\n",
        "print(a)  # [1, 2, 3, 4]\n",
        "* Immutable tuple\n",
        "b = (1, 2, 3)\n",
        "b[0] = 10  Error: tuple does not support item assignment\n"
      ],
      "metadata": {
        "id": "gegIVRxZPu8r"
      }
    },
    {
      "cell_type": "markdown",
      "source": [
        "# What is the difference between == and is in Python?\n",
        "Definition:\n",
        "== checks if values of two objects are the same.\n",
        "is checks if two objects point to the same memory location.\n",
        "Example:\n",
        "a = [1, 2]\n",
        "b = [1, 2]\n",
        "print(a == b)  \n",
        "print(a is b)  \n",
        "c = a\n",
        "print(a is c)  "
      ],
      "metadata": {
        "id": "cxC8ncMZPu5T"
      }
    },
    {
      "cell_type": "code",
      "source": [
        "a = [1, 2]\n",
        "b = [1, 2]\n",
        "print(a == b)\n",
        "print(a is b)"
      ],
      "metadata": {
        "colab": {
          "base_uri": "https://localhost:8080/"
        },
        "id": "Vr3WGjADak3o",
        "outputId": "60020ac5-22fe-4fd5-fd11-9457a281bcc5"
      },
      "execution_count": 5,
      "outputs": [
        {
          "output_type": "stream",
          "name": "stdout",
          "text": [
            "True\n",
            "False\n"
          ]
        }
      ]
    },
    {
      "cell_type": "markdown",
      "source": [
        "#What are logical operators in Python?\n",
        "Definition:\n",
        "Logical operators are used to combine conditional statements.\n",
        "Operators:\n",
        "and: True if both conditions are true\n",
        "or: True if at least one condition is true\n",
        "not: Reverses the result\n",
        "Example:\n",
        "x = 10\n",
        "print(x > 5 and x < 20)  \n",
        "print(x > 15 or x < 20)\n",
        "print(not(x > 15))       "
      ],
      "metadata": {
        "id": "Yg5dZ5F6Puyq"
      }
    },
    {
      "cell_type": "markdown",
      "source": [
        "# What is type casting in Python?\n",
        "Definition:\n",
        "Type casting is the process of converting one data type to another using built-in functions"
      ],
      "metadata": {
        "id": "1sj6dG42Puva"
      }
    },
    {
      "cell_type": "code",
      "source": [
        "x = \"123\"\n",
        "y = int(x)\n",
        "print(y + 1)"
      ],
      "metadata": {
        "colab": {
          "base_uri": "https://localhost:8080/"
        },
        "id": "2QQODERDbHZR",
        "outputId": "a285afdc-ee2b-4215-8a8b-de7988c04789"
      },
      "execution_count": 6,
      "outputs": [
        {
          "output_type": "stream",
          "name": "stdout",
          "text": [
            "124\n"
          ]
        }
      ]
    },
    {
      "cell_type": "markdown",
      "source": [
        "#What is the difference between implicit and explicit type casting?\n",
        "Definition:\n",
        "* Implicit casting is done automatically by Python.\n",
        "* Explicit casting is done manually by the programmer."
      ],
      "metadata": {
        "id": "ArZH8a5XPusM"
      }
    },
    {
      "cell_type": "code",
      "source": [
        "#implicit\n",
        "x = 5\n",
        "y = 2.0\n",
        "z = x + y\n",
        "print(z)\n",
        "#explicit\n",
        "x = \"10\"\n",
        "y = int(x) + 5\n",
        "print(y)"
      ],
      "metadata": {
        "colab": {
          "base_uri": "https://localhost:8080/"
        },
        "id": "v3Q0KiXQbf-v",
        "outputId": "41a454a5-53ab-4eee-937a-ad3e8c07c291"
      },
      "execution_count": 8,
      "outputs": [
        {
          "output_type": "stream",
          "name": "stdout",
          "text": [
            "7.0\n",
            "15\n"
          ]
        }
      ]
    },
    {
      "cell_type": "markdown",
      "source": [
        "#What is the purpose of conditional statements in Python?\n",
        "Definition:\n",
        "Conditional statements control the flow of execution based on conditions. It allows the program to take different paths.\n",
        "Example:\n",
        "age = 18\n",
        "if age >= 18:\n",
        "    print(\"Eligible to vote\")\n",
        "else:\n",
        "    print(\"Not eligible\")"
      ],
      "metadata": {
        "id": "lCsboRs6Puo6"
      }
    },
    {
      "cell_type": "code",
      "source": [
        "age = 18\n",
        "if age >= 18:\n",
        "    print(\"Eligible to vote\")\n",
        "else:\n",
        "    print(\"Not eligible\")\n"
      ],
      "metadata": {
        "colab": {
          "base_uri": "https://localhost:8080/"
        },
        "id": "hZvMP6GSfH86",
        "outputId": "40ae7043-5272-4dac-8efb-ac501d1ee58f"
      },
      "execution_count": 9,
      "outputs": [
        {
          "output_type": "stream",
          "name": "stdout",
          "text": [
            "Eligible to vote\n"
          ]
        }
      ]
    },
    {
      "cell_type": "markdown",
      "source": [
        "#How does the elif statement work?\n",
        "Definition:\n",
        "elif (short for \"else if\") allows checking multiple conditions in sequence."
      ],
      "metadata": {
        "id": "xZWUzWi2Pula"
      }
    },
    {
      "cell_type": "code",
      "source": [
        "marks = 75\n",
        "if marks >= 90:\n",
        "    print(\"Grade A\")\n",
        "elif marks >= 70:\n",
        "    print(\"Grade B\")\n",
        "else:\n",
        "    print(\"Grade C\")\n"
      ],
      "metadata": {
        "colab": {
          "base_uri": "https://localhost:8080/"
        },
        "id": "Mf_dcneVfQ_h",
        "outputId": "ec857591-e6bb-40e4-ce42-5b31dd69183b"
      },
      "execution_count": 10,
      "outputs": [
        {
          "output_type": "stream",
          "name": "stdout",
          "text": [
            "Grade B\n"
          ]
        }
      ]
    },
    {
      "cell_type": "markdown",
      "source": [
        "# What is the difference between for and while loops?\n",
        "Definition:\n",
        "for loop is used when you know how many times to iterate.\n",
        "while loop is used when the number of iterations depends on a condition."
      ],
      "metadata": {
        "id": "I0kQcMFoPuhT"
      }
    },
    {
      "cell_type": "code",
      "source": [
        "#for\n",
        "for i in range(5):\n",
        "    print(i)\n",
        "#while\n",
        "i = 0\n",
        "while i < 5:\n",
        "    print(i)\n",
        "    i += 1\n"
      ],
      "metadata": {
        "colab": {
          "base_uri": "https://localhost:8080/"
        },
        "id": "weyGlcdXfaMC",
        "outputId": "380d3d44-18a8-4c97-963f-1153c564875a"
      },
      "execution_count": 11,
      "outputs": [
        {
          "output_type": "stream",
          "name": "stdout",
          "text": [
            "0\n",
            "1\n",
            "2\n",
            "3\n",
            "4\n",
            "0\n",
            "1\n",
            "2\n",
            "3\n",
            "4\n"
          ]
        }
      ]
    },
    {
      "cell_type": "markdown",
      "source": [
        "#Describe a scenario where a while loop is more suitable than a for loop.\n",
        "Answer:\n",
        "Use a while loop when the number of iterations is unknown, such as reading user input until they type 'exit'."
      ],
      "metadata": {
        "id": "gBWcFQAThPGU"
      }
    },
    {
      "cell_type": "code",
      "source": [
        "user_input = \"\"\n",
        "while user_input != \"exit\":\n",
        "    user_input = input(\"Type 'exit' to stop: \")\n"
      ],
      "metadata": {
        "colab": {
          "base_uri": "https://localhost:8080/"
        },
        "id": "xPn2AmZDhWap",
        "outputId": "af162ffe-0517-4eab-a7b6-36c1aa353f91"
      },
      "execution_count": 12,
      "outputs": [
        {
          "name": "stdout",
          "output_type": "stream",
          "text": [
            "Type 'exit' to stop: r\n",
            "Type 'exit' to stop: h[\n",
            "Type 'exit' to stop: h\n",
            "Type 'exit' to stop: exit\n"
          ]
        }
      ]
    },
    {
      "cell_type": "code",
      "source": [],
      "metadata": {
        "id": "MG7GNzINlOcz"
      },
      "execution_count": null,
      "outputs": []
    },
    {
      "cell_type": "markdown",
      "source": [
        "#***program***"
      ],
      "metadata": {
        "id": "nc5w8rtslPo0"
      }
    },
    {
      "cell_type": "code",
      "source": [
        "#1\n",
        "print(\"Hello, World!\")\n"
      ],
      "metadata": {
        "colab": {
          "base_uri": "https://localhost:8080/"
        },
        "id": "YYO5uCnElOZr",
        "outputId": "63d88172-f1dd-4694-ebfe-aec3535d2260"
      },
      "execution_count": 13,
      "outputs": [
        {
          "output_type": "stream",
          "name": "stdout",
          "text": [
            "Hello, World!\n"
          ]
        }
      ]
    },
    {
      "cell_type": "code",
      "source": [
        "#2\n",
        "name = \"Mehul\"\n",
        "age = 22\n",
        "print(\"Name:\", name)\n",
        "print(\"Age:\", age)\n"
      ],
      "metadata": {
        "colab": {
          "base_uri": "https://localhost:8080/"
        },
        "id": "orVa10tglOWd",
        "outputId": "90df7ad8-433d-4277-e8d7-73e0d099877c"
      },
      "execution_count": 14,
      "outputs": [
        {
          "output_type": "stream",
          "name": "stdout",
          "text": [
            "Name: Mehul\n",
            "Age: 22\n"
          ]
        }
      ]
    },
    {
      "cell_type": "code",
      "source": [
        "#3\n",
        "import keyword\n",
        "print(\"Python Keywords are:\")\n",
        "print(keyword.kwlist)\n",
        "\n"
      ],
      "metadata": {
        "colab": {
          "base_uri": "https://localhost:8080/"
        },
        "id": "NtxuEW3NlOTL",
        "outputId": "1f9609ce-d525-4e4f-d4e9-92463281eed7"
      },
      "execution_count": 15,
      "outputs": [
        {
          "output_type": "stream",
          "name": "stdout",
          "text": [
            "Python Keywords are:\n",
            "['False', 'None', 'True', 'and', 'as', 'assert', 'async', 'await', 'break', 'class', 'continue', 'def', 'del', 'elif', 'else', 'except', 'finally', 'for', 'from', 'global', 'if', 'import', 'in', 'is', 'lambda', 'nonlocal', 'not', 'or', 'pass', 'raise', 'return', 'try', 'while', 'with', 'yield']\n"
          ]
        }
      ]
    },
    {
      "cell_type": "code",
      "source": [
        "#4\n",
        "import keyword\n",
        "word = input(\"Enter a word: \")\n",
        "if keyword.iskeyword(word):\n",
        "    print(word, \"is a Python keyword.\")\n",
        "else:\n",
        "    print(word, \"is NOT a Python keyword.\")\n"
      ],
      "metadata": {
        "colab": {
          "base_uri": "https://localhost:8080/"
        },
        "id": "oGYVQOqZlOP8",
        "outputId": "82d5856d-8132-4f1a-a8d9-08b9e147846d"
      },
      "execution_count": 16,
      "outputs": [
        {
          "output_type": "stream",
          "name": "stdout",
          "text": [
            "Enter a word: Mehul\n",
            "Mehul is NOT a Python keyword.\n"
          ]
        }
      ]
    },
    {
      "cell_type": "code",
      "source": [
        "#5\n",
        "def change_values(a_list, a_number):\n",
        "    a_list.append(4)\n",
        "    a_number += 10\n",
        "my_list = [1, 2, 3]\n",
        "my_num = 5\n",
        "change_values(my_list, my_num)\n",
        "print(\"List:\", my_list)\n",
        "print(\"Number:\", my_num)\n",
        "\n"
      ],
      "metadata": {
        "colab": {
          "base_uri": "https://localhost:8080/"
        },
        "id": "ww_8AJ2flOMr",
        "outputId": "f1ac4e8b-fe86-4aec-efd5-9ef9de41d207"
      },
      "execution_count": 17,
      "outputs": [
        {
          "output_type": "stream",
          "name": "stdout",
          "text": [
            "List: [1, 2, 3, 4]\n",
            "Number: 5\n"
          ]
        }
      ]
    },
    {
      "cell_type": "code",
      "source": [
        "#6\n",
        "a = float(input(\"Enter first number: \"))\n",
        "b = float(input(\"Enter second number: \"))\n",
        "print(\"Addition:\", a + b)\n",
        "print(\"Subtraction:\", a - b)\n",
        "print(\"Multiplication:\", a * b)\n",
        "print(\"Division:\", a / b)\n"
      ],
      "metadata": {
        "colab": {
          "base_uri": "https://localhost:8080/"
        },
        "id": "gVT9wvMflOJb",
        "outputId": "0292999b-51b3-4cad-a8d3-c7ce0ed7fa4a"
      },
      "execution_count": 18,
      "outputs": [
        {
          "output_type": "stream",
          "name": "stdout",
          "text": [
            "Enter first number: 5\n",
            "Enter second number: 5\n",
            "Addition: 10.0\n",
            "Subtraction: 0.0\n",
            "Multiplication: 25.0\n",
            "Division: 1.0\n"
          ]
        }
      ]
    },
    {
      "cell_type": "code",
      "source": [
        "#7\n",
        "a = 10\n",
        "b = 5\n",
        "print(a > 0 and b > 0)\n",
        "print(a < 0 or b > 0)\n",
        "print(not a < 0)\n"
      ],
      "metadata": {
        "colab": {
          "base_uri": "https://localhost:8080/"
        },
        "id": "IuSDT2pglOGT",
        "outputId": "770ae91a-0f2e-4d6b-f86a-beeb24508419"
      },
      "execution_count": 19,
      "outputs": [
        {
          "output_type": "stream",
          "name": "stdout",
          "text": [
            "True\n",
            "True\n",
            "True\n"
          ]
        }
      ]
    },
    {
      "cell_type": "code",
      "source": [
        "#8\n",
        "my_list = [1, 2, 3]\n",
        "my_tuple = (1, 2, 3)\n",
        "my_list[0] = 10\n",
        "print(\"Modified List:\", my_list)"
      ],
      "metadata": {
        "id": "cSJByW-MlODF"
      },
      "execution_count": null,
      "outputs": []
    },
    {
      "cell_type": "code",
      "source": [
        "#9\n",
        "user_input = input(\"Enter a value: \")\n",
        "int_val = int(user_input)\n",
        "float_val = float(user_input)\n",
        "bool_val = bool(user_input)\n",
        "print(\"Integer:\", int_val)\n",
        "print(\"Float:\", float_val)\n",
        "print(\"Boolean:\", bool_val)\n"
      ],
      "metadata": {
        "colab": {
          "base_uri": "https://localhost:8080/"
        },
        "id": "5RBDYDrplN_z",
        "outputId": "bcce581d-aaec-4718-bf47-9a10a857a66c"
      },
      "execution_count": 20,
      "outputs": [
        {
          "output_type": "stream",
          "name": "stdout",
          "text": [
            "Enter a value: 55\n",
            "Integer: 55\n",
            "Float: 55.0\n",
            "Boolean: True\n"
          ]
        }
      ]
    },
    {
      "cell_type": "code",
      "source": [
        "#10\n",
        "string_list = ['1', '2', '3']\n",
        "int_list = [int(x) for x in string_list]\n",
        "print(\"Converted List:\", int_list)\n"
      ],
      "metadata": {
        "colab": {
          "base_uri": "https://localhost:8080/"
        },
        "id": "wo8iO-nvlN8b",
        "outputId": "0c218113-4b27-4dde-c22a-51b0e4ad2996"
      },
      "execution_count": 21,
      "outputs": [
        {
          "output_type": "stream",
          "name": "stdout",
          "text": [
            "Converted List: [1, 2, 3]\n"
          ]
        }
      ]
    },
    {
      "cell_type": "code",
      "source": [
        "#11\n",
        "num = float(input(\"Enter a number: \"))\n",
        "if num > 0:\n",
        "    print(\"Positive\")\n",
        "elif num < 0:\n",
        "    print(\"Negative\")\n",
        "else:\n",
        "    print(\"Zero\")\n"
      ],
      "metadata": {
        "colab": {
          "base_uri": "https://localhost:8080/"
        },
        "id": "QbodsAa0lN5c",
        "outputId": "a2029788-7349-40bc-e1ff-18fda0a97c27"
      },
      "execution_count": 22,
      "outputs": [
        {
          "output_type": "stream",
          "name": "stdout",
          "text": [
            "Enter a number: 55\n",
            "Positive\n"
          ]
        }
      ]
    },
    {
      "cell_type": "code",
      "source": [
        "#12\n",
        "for i in range(1, 11):\n",
        "    print(i)\n"
      ],
      "metadata": {
        "colab": {
          "base_uri": "https://localhost:8080/"
        },
        "id": "7SHSpTQNlN2H",
        "outputId": "cfe3e91f-7ab9-4495-9124-522be1828402"
      },
      "execution_count": 23,
      "outputs": [
        {
          "output_type": "stream",
          "name": "stdout",
          "text": [
            "1\n",
            "2\n",
            "3\n",
            "4\n",
            "5\n",
            "6\n",
            "7\n",
            "8\n",
            "9\n",
            "10\n"
          ]
        }
      ]
    },
    {
      "cell_type": "code",
      "source": [
        "#13\n",
        "total = 0\n",
        "for i in range(1, 51):\n",
        "    if i % 2 == 0:\n",
        "        total += i\n",
        "print(\"Sum of even numbers:\", total)\n"
      ],
      "metadata": {
        "colab": {
          "base_uri": "https://localhost:8080/"
        },
        "id": "9m7ce3w2lNyr",
        "outputId": "b1fbb5e1-b07c-41e7-fb2c-d75358181a03"
      },
      "execution_count": 24,
      "outputs": [
        {
          "output_type": "stream",
          "name": "stdout",
          "text": [
            "Sum of even numbers: 650\n"
          ]
        }
      ]
    },
    {
      "cell_type": "code",
      "source": [
        "#14\n",
        "text = input(\"Enter a string: \")\n",
        "reversed_text = \"\"\n",
        "i = len(text) - 1\n",
        "while i >= 0:\n",
        "    reversed_text += text[i]\n",
        "    i -= 1\n",
        "print(\"Reversed String:\", reversed_text)\n"
      ],
      "metadata": {
        "colab": {
          "base_uri": "https://localhost:8080/"
        },
        "id": "mAoHChP9lNvj",
        "outputId": "0602a21e-c34d-4636-f9b0-51c35e209e6f"
      },
      "execution_count": 25,
      "outputs": [
        {
          "output_type": "stream",
          "name": "stdout",
          "text": [
            "Enter a string: mehul\n",
            "Reversed String: luhem\n"
          ]
        }
      ]
    },
    {
      "cell_type": "code",
      "source": [
        "#15\n",
        "num = int(input(\"Enter a number: \"))\n",
        "fact = 1\n",
        "i = 1\n",
        "while i <= num:\n",
        "    fact *= i\n",
        "    i += 1\n",
        "print(\"Factorial:\", fact)\n"
      ],
      "metadata": {
        "colab": {
          "base_uri": "https://localhost:8080/"
        },
        "id": "R2nV0yCDlNsM",
        "outputId": "08911380-a782-4c8e-ae97-fdcd369fabb1"
      },
      "execution_count": 26,
      "outputs": [
        {
          "output_type": "stream",
          "name": "stdout",
          "text": [
            "Enter a number: 55\n",
            "Factorial: 12696403353658275925965100847566516959580321051449436762275840000000000000\n"
          ]
        }
      ]
    }
  ]
}